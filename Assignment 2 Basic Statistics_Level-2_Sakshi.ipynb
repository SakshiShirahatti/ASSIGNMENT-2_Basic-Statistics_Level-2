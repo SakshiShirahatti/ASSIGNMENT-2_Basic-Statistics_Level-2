{
 "cells": [
  {
   "cell_type": "markdown",
   "id": "0caf2663",
   "metadata": {},
   "source": [
    "# Set+1_Descriptive+statistics+Probability+(2)\n",
    "# Question No. 1\n",
    "\tLook at the data given below. Plot the data, find the outliers and find out  μ,σ,σ^2"
   ]
  },
  {
   "cell_type": "code",
   "execution_count": 1,
   "id": "a484afcf",
   "metadata": {},
   "outputs": [],
   "source": [
    "import pandas as pd \n",
    "import numpy as np\n",
    "import matplotlib.pyplot as plt\n",
    "import seaborn as sns\n",
    "%matplotlib inline"
   ]
  },
  {
   "cell_type": "code",
   "execution_count": 2,
   "id": "37e84dd7",
   "metadata": {},
   "outputs": [],
   "source": [
    "companys=['Allied Signal','Bankers Trust','General Mills','ITT Industries','J.P.Morgan & Co.','Lehman Brothers',\n",
    "'Marriott','MCI','Merrill Lynch','Microsoft','Morgan Stanley','Sun Microsystems','Travelers','US Airways','Warner-Lambert']\n",
    "\n"
   ]
  },
  {
   "cell_type": "code",
   "execution_count": 3,
   "id": "fa802e64",
   "metadata": {},
   "outputs": [],
   "source": [
    "x=pd.Series([24.23,25.53,25.41,24.14,29.62,28.25,25.81,24.39,40.26,32.95,91.36,25.9,39.42,26.71,35.00])"
   ]
  },
  {
   "cell_type": "code",
   "execution_count": 4,
   "id": "19d15d3f",
   "metadata": {},
   "outputs": [
    {
     "data": {
      "image/png": "[encoded data removed]",
      "text/plain": [
       "<Figure size 1080x504 with 1 Axes>"
      ]
     },
     "metadata": {
      "needs_background": "light"
     },
     "output_type": "display_data"
    }
   ],
   "source": [
    "plt.figure(figsize=(15,7))\n",
    "plt.bar(x,companys)\n",
    "plt.show()"
   ]
  },
  {
   "cell_type": "code",
   "execution_count": 5,
   "id": "dfaaa4df",
   "metadata": {},
   "outputs": [
    {
     "name": "stderr",
     "output_type": "stream",
     "text": [
      "C:\\ProgramData\\Anaconda3\\lib\\site-packages\\seaborn\\_decorators.py:36: FutureWarning: Pass the following variable as a keyword arg: x. From version 0.12, the only valid positional argument will be `data`, and passing other arguments without an explicit keyword will result in an error or misinterpretation.\n",
      "  warnings.warn(\n"
     ]
    },
    {
     "data": {
      "text/plain": [
       "<AxesSubplot:>"
      ]
     },
     "execution_count": 5,
     "metadata": {},
     "output_type": "execute_result"
    },
    {
     "data": {
      "image/png": "[encoded data removed]",
      "text/plain": [
       "<Figure size 432x288 with 1 Axes>"
      ]
     },
     "metadata": {
      "needs_background": "light"
     },
     "output_type": "display_data"
    }
   ],
   "source": [
    "sns.boxplot(x)"
   ]
  },
  {
   "cell_type": "code",
   "execution_count": 6,
   "id": "40fb0bea",
   "metadata": {},
   "outputs": [
    {
     "data": {
      "text/plain": [
       "33.26533333333333"
      ]
     },
     "execution_count": 6,
     "metadata": {},
     "output_type": "execute_result"
    }
   ],
   "source": [
    "x.mean()"
   ]
  },
  {
   "cell_type": "code",
   "execution_count": 7,
   "id": "74a1d7da",
   "metadata": {},
   "outputs": [
    {
     "data": {
      "text/plain": [
       "16.948178944175964"
      ]
     },
     "execution_count": 7,
     "metadata": {},
     "output_type": "execute_result"
    }
   ],
   "source": [
    "x.std()"
   ]
  },
  {
   "cell_type": "code",
   "execution_count": 8,
   "id": "64f4ea52",
   "metadata": {},
   "outputs": [
    {
     "data": {
      "text/plain": [
       "287.2407695238095"
      ]
     },
     "execution_count": 8,
     "metadata": {},
     "output_type": "execute_result"
    }
   ],
   "source": [
    "x.var()"
   ]
  },
  {
   "cell_type": "markdown",
   "id": "27d31792",
   "metadata": {},
   "source": [
    "# INFERENCE\n",
    "THE DATA HAS OUTLIER 90\n",
    "MEAN =33.26533333333333\n",
    "STANDAR DEVIATION =16.948178944175964\n",
    "VARIANCE= 287.2407695238095"
   ]
  },
  {
   "cell_type": "markdown",
   "id": "20477c76",
   "metadata": {},
   "source": [
    "# Set+2_Normal+Distribution+Functions+of+random+variables+(1)\n",
    "# Question No. 1\n",
    "1.\tThe time required for servicing transmissions is normally distributed with mean = 45 minutes and std  = 8 minutes. The service manager plans to have work begin on the transmission of a customer’s car 10 minutes after the car is dropped off and the customer is told that the car will be ready within 1 hour from drop-off. What is the probability that the service manager cannot meet his commitment? "
   ]
  },
  {
   "cell_type": "code",
   "execution_count": 9,
   "id": "c28077e5",
   "metadata": {},
   "outputs": [],
   "source": [
    "import  pandas as pd\n",
    "import numpy as np\n",
    "import matplotlib.pyplot as plt\n",
    "from scipy import stats"
   ]
  },
  {
   "cell_type": "code",
   "execution_count": 10,
   "id": "0a9efb2f",
   "metadata": {},
   "outputs": [],
   "source": [
    "x=50  # 1-10 mins\n",
    "mean=45\n",
    "std=8\n",
    "zscore=0.625"
   ]
  },
  {
   "cell_type": "code",
   "execution_count": 11,
   "id": "a26b5ebc",
   "metadata": {},
   "outputs": [
    {
     "data": {
      "text/plain": [
       "0.26598552904870054"
      ]
     },
     "execution_count": 11,
     "metadata": {},
     "output_type": "execute_result"
    }
   ],
   "source": [
    "1-stats.norm.cdf(0.625)"
   ]
  },
  {
   "cell_type": "markdown",
   "id": "e2f1088e",
   "metadata": {},
   "source": [
    "# Question No. 2 \n",
    "\tThe current age (in years) of 400 clerical employees at an insurance claims processing center is normally distributed with mean  = 38 and Standard deviation  =6. For each statement below, please specify True/False. If false, briefly explain why.\n",
    "A.\tMore employees at the processing center are older than 44 than between 38 and 44.\n",
    "B.\tA training program for employees under the age of 30 at the center would be expected to attract about 36 employees.\n",
    "\n"
   ]
  },
  {
   "cell_type": "markdown",
   "id": "e2708fdb",
   "metadata": {},
   "source": [
    "#A.\tMore employees at the processing center are older than 44 than between 38 and 44."
   ]
  },
  {
   "cell_type": "code",
   "execution_count": 12,
   "id": "b98dd039",
   "metadata": {},
   "outputs": [],
   "source": [
    "n=400\n",
    "mean=38\n",
    "std=6"
   ]
  },
  {
   "cell_type": "code",
   "execution_count": 13,
   "id": "9295e829",
   "metadata": {},
   "outputs": [
    {
     "data": {
      "text/plain": [
       "False"
      ]
     },
     "execution_count": 13,
     "metadata": {},
     "output_type": "execute_result"
    }
   ],
   "source": [
    "x>44   #for employees older than 44 \n",
    "38<x<44  # for employees between 38 and 44"
   ]
  },
  {
   "cell_type": "code",
   "execution_count": 14,
   "id": "40f86164",
   "metadata": {},
   "outputs": [],
   "source": [
    "x=44\n",
    "mean=38\n",
    "std=6"
   ]
  },
  {
   "cell_type": "code",
   "execution_count": 15,
   "id": "5f51626a",
   "metadata": {},
   "outputs": [
    {
     "data": {
      "text/plain": [
       "0.15865525393145707"
      ]
     },
     "execution_count": 15,
     "metadata": {},
     "output_type": "execute_result"
    }
   ],
   "source": [
    "1-stats.norm.cdf(44,loc=38,scale=6)"
   ]
  },
  {
   "cell_type": "code",
   "execution_count": 16,
   "id": "04820034",
   "metadata": {},
   "outputs": [],
   "source": [
    "x=44       #for employees older than 44 \n",
    "mean=38\n",
    "std=6"
   ]
  },
  {
   "cell_type": "code",
   "execution_count": 17,
   "id": "2293c4d4",
   "metadata": {},
   "outputs": [
    {
     "data": {
      "text/plain": [
       "0.8413447460685429"
      ]
     },
     "execution_count": 17,
     "metadata": {},
     "output_type": "execute_result"
    }
   ],
   "source": [
    "stats.norm.cdf(x,loc=mean,scale=std)"
   ]
  },
  {
   "cell_type": "code",
   "execution_count": 18,
   "id": "9369bf73",
   "metadata": {},
   "outputs": [],
   "source": [
    "x=38      #for employees older than 38\n",
    "mean=38\n",
    "std=6"
   ]
  },
  {
   "cell_type": "code",
   "execution_count": 19,
   "id": "505c1b1f",
   "metadata": {},
   "outputs": [
    {
     "data": {
      "text/plain": [
       "0.5"
      ]
     },
     "execution_count": 19,
     "metadata": {},
     "output_type": "execute_result"
    }
   ],
   "source": [
    "1-stats.norm.cdf(x,loc=mean,scale=std)"
   ]
  },
  {
   "cell_type": "code",
   "execution_count": 20,
   "id": "e1a6cea9",
   "metadata": {},
   "outputs": [
    {
     "data": {
      "text/plain": [
       "0.3413447460685429"
      ]
     },
     "execution_count": 20,
     "metadata": {},
     "output_type": "execute_result"
    }
   ],
   "source": [
    "stats.norm.cdf(44,loc=mean,scale=std)-stats.norm.cdf(38,loc=mean,scale=std)"
   ]
  },
  {
   "cell_type": "code",
   "execution_count": 21,
   "id": "38a8bee6",
   "metadata": {},
   "outputs": [],
   "source": [
    " # for employees between 38 and 44 > #for employees older than 44"
   ]
  },
  {
   "cell_type": "markdown",
   "id": "d113c655",
   "metadata": {},
   "source": [
    "More employees at the processing center are older than 44 than between 38 and 44,\n",
    "statement A is false as employees between 38 and 44 >  employees older than 44"
   ]
  },
  {
   "cell_type": "markdown",
   "id": "ccc00551",
   "metadata": {},
   "source": [
    "#B.\tA training program for employees under the age of 30 at the center would be expected to attract about 36 employees."
   ]
  },
  {
   "cell_type": "code",
   "execution_count": 22,
   "id": "ac634147",
   "metadata": {},
   "outputs": [],
   "source": [
    "n=400\n",
    "x=30     # for employees under the age of 30\n",
    "mean=38\n",
    "std=6"
   ]
  },
  {
   "cell_type": "code",
   "execution_count": 23,
   "id": "e9d3ffeb",
   "metadata": {},
   "outputs": [
    {
     "data": {
      "text/plain": [
       "0.09121121972586788"
      ]
     },
     "execution_count": 23,
     "metadata": {},
     "output_type": "execute_result"
    }
   ],
   "source": [
    "stats.norm.cdf(x,loc=mean,scale=std)  # for employees under the age of 30"
   ]
  },
  {
   "cell_type": "code",
   "execution_count": 24,
   "id": "a2b527a3",
   "metadata": {},
   "outputs": [
    {
     "data": {
      "text/plain": [
       "36.484487890347154"
      ]
     },
     "execution_count": 24,
     "metadata": {},
     "output_type": "execute_result"
    }
   ],
   "source": [
    "400 * stats.norm.cdf(30,38,6)"
   ]
  },
  {
   "cell_type": "markdown",
   "id": "966a28b8",
   "metadata": {},
   "source": [
    " A training program for employees under the age of 30 at the center would be expected to attract about 36 employees,\n",
    " the statement B is true"
   ]
  },
  {
   "cell_type": "markdown",
   "id": "2a333ad6",
   "metadata": {},
   "source": [
    "# Question No. 5\n",
    "5.Consider a company that has two different divisions. The annual profits from the two divisions are independent and have distributions Profit1 ~ N(5, 32) and Profit2 ~ N(7, 42) respectively. Both the profits are in $ Million. Answer the following questions about the total profit of the company in Rupees. Assume that $1 = Rs. 45\n",
    "A.\tSpecify a Rupee range (centered on the mean) such that it contains 95% probability for the annual profit of the company.\n",
    "B.\tSpecify the 5th percentile of profit (in Rupees) for the company\n",
    "C.\tWhich of the two divisions has a larger probability of making a loss in a given year?\n"
   ]
  },
  {
   "cell_type": "code",
   "execution_count": 25,
   "id": "4478147d",
   "metadata": {},
   "outputs": [],
   "source": [
    "#given\n",
    "mean1=5\n",
    "mean2=7\n",
    "std1=3^2\n",
    "std2=4^2"
   ]
  },
  {
   "cell_type": "code",
   "execution_count": 26,
   "id": "c63c4b39",
   "metadata": {},
   "outputs": [],
   "source": [
    "mean=(5+7)"
   ]
  },
  {
   "cell_type": "code",
   "execution_count": 27,
   "id": "f8ecda07",
   "metadata": {},
   "outputs": [
    {
     "data": {
      "text/plain": [
       "12"
      ]
     },
     "execution_count": 27,
     "metadata": {},
     "output_type": "execute_result"
    }
   ],
   "source": [
    "mean"
   ]
  },
  {
   "cell_type": "code",
   "execution_count": 28,
   "id": "b2524090",
   "metadata": {},
   "outputs": [
    {
     "data": {
      "text/plain": [
       "540"
      ]
     },
     "execution_count": 28,
     "metadata": {},
     "output_type": "execute_result"
    }
   ],
   "source": [
    "mean*45    #$1=rs45"
   ]
  },
  {
   "cell_type": "code",
   "execution_count": 29,
   "id": "4ed5c154",
   "metadata": {},
   "outputs": [
    {
     "name": "stdout",
     "output_type": "stream",
     "text": [
      "profit mean 540 milloin\n"
     ]
    }
   ],
   "source": [
    "print(\"profit mean 540 milloin\")"
   ]
  },
  {
   "cell_type": "code",
   "execution_count": 30,
   "id": "dee68440",
   "metadata": {},
   "outputs": [
    {
     "data": {
      "text/plain": [
       "5.0"
      ]
     },
     "execution_count": 30,
     "metadata": {},
     "output_type": "execute_result"
    }
   ],
   "source": [
    "np.sqrt((9)+(16))     #std"
   ]
  },
  {
   "cell_type": "code",
   "execution_count": 31,
   "id": "5fa2d7e2",
   "metadata": {},
   "outputs": [],
   "source": [
    "mean=12\n",
    "std=5"
   ]
  },
  {
   "cell_type": "code",
   "execution_count": 32,
   "id": "817dc329",
   "metadata": {},
   "outputs": [
    {
     "data": {
      "text/plain": [
       "225"
      ]
     },
     "execution_count": 32,
     "metadata": {},
     "output_type": "execute_result"
    }
   ],
   "source": [
    "std*45 #$1=rs45"
   ]
  },
  {
   "cell_type": "code",
   "execution_count": 33,
   "id": "a767d36f",
   "metadata": {},
   "outputs": [
    {
     "name": "stdout",
     "output_type": "stream",
     "text": [
      "Standard Deviation is Rs 225 Million\n"
     ]
    }
   ],
   "source": [
    "print(\"Standard Deviation is Rs 225 Million\")"
   ]
  },
  {
   "cell_type": "code",
   "execution_count": 34,
   "id": "7257250c",
   "metadata": {},
   "outputs": [],
   "source": [
    "from scipy import stats\n",
    "import pandas as pd\n",
    "import numpy as np\n",
    "import matplotlib.pyplot as plt"
   ]
  },
  {
   "cell_type": "code",
   "execution_count": 35,
   "id": "450916f9",
   "metadata": {},
   "outputs": [],
   "source": [
    "# 95% of probability for rs range\n",
    "mean=540\n",
    "std=225"
   ]
  },
  {
   "cell_type": "code",
   "execution_count": 36,
   "id": "705ff172",
   "metadata": {},
   "outputs": [
    {
     "data": {
      "text/plain": [
       "(99.00810347848784, 980.9918965215122)"
      ]
     },
     "execution_count": 36,
     "metadata": {},
     "output_type": "execute_result"
    }
   ],
   "source": [
    "stats.norm.interval(0.95,mean,std)     "
   ]
  },
  {
   "cell_type": "code",
   "execution_count": 37,
   "id": "36a4a1a6",
   "metadata": {},
   "outputs": [
    {
     "name": "stdout",
     "output_type": "stream",
     "text": [
      "range : (99.00810347848784, 980.9918965215122)\n"
     ]
    }
   ],
   "source": [
    "print(\"range : (99.00810347848784, 980.9918965215122)\")"
   ]
  },
  {
   "cell_type": "code",
   "execution_count": 38,
   "id": "6b6e52ac",
   "metadata": {},
   "outputs": [
    {
     "name": "stdout",
     "output_type": "stream",
     "text": [
      "range is 99.00810347848784, 980.9918965215122 million\n"
     ]
    }
   ],
   "source": [
    "print(\"range is 99.00810347848784, 980.9918965215122 million\")"
   ]
  },
  {
   "cell_type": "code",
   "execution_count": 39,
   "id": "030f1b04",
   "metadata": {},
   "outputs": [],
   "source": [
    "# B. Specify the 5th percentile of profit (in Rupees) for the company"
   ]
  },
  {
   "cell_type": "code",
   "execution_count": 40,
   "id": "6aabe3db",
   "metadata": {},
   "outputs": [],
   "source": [
    "mean=540\n",
    "std=225\n",
    "zscore=-1.644"
   ]
  },
  {
   "cell_type": "code",
   "execution_count": 41,
   "id": "f8503c45",
   "metadata": {},
   "outputs": [],
   "source": [
    "x= mean+zscore*std"
   ]
  },
  {
   "cell_type": "code",
   "execution_count": 42,
   "id": "68a3c98b",
   "metadata": {},
   "outputs": [
    {
     "data": {
      "text/plain": [
       "170.10000000000002"
      ]
     },
     "execution_count": 42,
     "metadata": {},
     "output_type": "execute_result"
    }
   ],
   "source": [
    "x # x is the value of 5th percentile "
   ]
  },
  {
   "cell_type": "code",
   "execution_count": 43,
   "id": "09d6f087",
   "metadata": {},
   "outputs": [],
   "source": [
    "# THE 5TH PERCENTILE OF PROFIT (IN RUPEES) FOR THE COMPANY = 170.1 MILLION"
   ]
  },
  {
   "cell_type": "code",
   "execution_count": 44,
   "id": "7d39a7ac",
   "metadata": {},
   "outputs": [],
   "source": [
    "#P(0> PROFIT1~N(5,3^2)   OR   P(0> PROFIT2~N(7,4^2)"
   ]
  },
  {
   "cell_type": "code",
   "execution_count": 45,
   "id": "431870a5",
   "metadata": {},
   "outputs": [],
   "source": [
    "#for P(0> PROFIT1~N(5,3^2) \n",
    "x=0\n",
    "mean=5\n",
    "std=3"
   ]
  },
  {
   "cell_type": "code",
   "execution_count": 46,
   "id": "6fd221fb",
   "metadata": {},
   "outputs": [
    {
     "data": {
      "text/plain": [
       "0.0477903522728147"
      ]
     },
     "execution_count": 46,
     "metadata": {},
     "output_type": "execute_result"
    }
   ],
   "source": [
    "stats.norm.cdf(x,loc=mean,scale=std)"
   ]
  },
  {
   "cell_type": "code",
   "execution_count": 47,
   "id": "b59ad16c",
   "metadata": {},
   "outputs": [],
   "source": [
    "# for  P(0> PROFIT2~N(7,4^2)\n",
    "x=0\n",
    "mean=7\n",
    "std=4"
   ]
  },
  {
   "cell_type": "code",
   "execution_count": 48,
   "id": "3842d5ba",
   "metadata": {},
   "outputs": [
    {
     "data": {
      "text/plain": [
       "0.040059156863817086"
      ]
     },
     "execution_count": 48,
     "metadata": {},
     "output_type": "execute_result"
    }
   ],
   "source": [
    "stats.norm.cdf(x,loc=mean,scale=std)"
   ]
  },
  {
   "cell_type": "code",
   "execution_count": 49,
   "id": "6fcaa1d8",
   "metadata": {},
   "outputs": [],
   "source": [
    "# 0.040059156863817086 P(0> PROFIT2~N(7,4^2)  < 0.0477903522728147 P(0> PROFIT1~N(5,3^2)"
   ]
  },
  {
   "cell_type": "code",
   "execution_count": 50,
   "id": "7f522a0e",
   "metadata": {},
   "outputs": [],
   "source": [
    "#for P(0> PROFIT1~N(5,3^2) = 0.0477903522728147 has greater loss"
   ]
  },
  {
   "cell_type": "markdown",
   "id": "39e4faa8",
   "metadata": {},
   "source": [
    "# Question No. 4\n",
    "4.\tLet X ~ N(100, 20^2). Find two values, a and b, symmetric about the mean, such that the probability of the random variable taking a value between them is 0.99. "
   ]
  },
  {
   "cell_type": "code",
   "execution_count": 51,
   "id": "a2990c16",
   "metadata": {},
   "outputs": [],
   "source": [
    "mean=100\n",
    "std=2\n",
    "#a<(0.99)<b"
   ]
  },
  {
   "cell_type": "code",
   "execution_count": 52,
   "id": "20288443",
   "metadata": {},
   "outputs": [],
   "source": [
    "#to excluded area of .005 in each of the left and right tails.\n",
    "# to find the 0.5th and the 99.5th percentiles Z score values"
   ]
  },
  {
   "cell_type": "code",
   "execution_count": 53,
   "id": "b7a064f3",
   "metadata": {},
   "outputs": [],
   "source": [
    "from scipy import stats\n",
    "import pandas as pd\n",
    "import numpy as np\n",
    "import matplotlib.pyplot as plt"
   ]
  },
  {
   "cell_type": "code",
   "execution_count": 54,
   "id": "b82450c6",
   "metadata": {},
   "outputs": [
    {
     "data": {
      "text/plain": [
       "-2.575829303548901"
      ]
     },
     "execution_count": 54,
     "metadata": {},
     "output_type": "execute_result"
    }
   ],
   "source": [
    "stats.norm.ppf(0.005)  #z score of 0.5"
   ]
  },
  {
   "cell_type": "code",
   "execution_count": 55,
   "id": "1127c1c1",
   "metadata": {},
   "outputs": [
    {
     "data": {
      "text/plain": [
       "2.5758293035489004"
      ]
     },
     "execution_count": 55,
     "metadata": {},
     "output_type": "execute_result"
    }
   ],
   "source": [
    "stats.norm.ppf(0.995)   #z score of 99.5"
   ]
  },
  {
   "cell_type": "code",
   "execution_count": 56,
   "id": "a04dd898",
   "metadata": {},
   "outputs": [],
   "source": [
    "# z score= x-mean/std\n",
    "# x= std*zscore+mean"
   ]
  },
  {
   "cell_type": "code",
   "execution_count": 57,
   "id": "f95e66cb",
   "metadata": {},
   "outputs": [],
   "source": [
    "a=20*(-2.576)+100"
   ]
  },
  {
   "cell_type": "code",
   "execution_count": 58,
   "id": "7e190741",
   "metadata": {},
   "outputs": [
    {
     "data": {
      "text/plain": [
       "48.48"
      ]
     },
     "execution_count": 58,
     "metadata": {},
     "output_type": "execute_result"
    }
   ],
   "source": [
    "a"
   ]
  },
  {
   "cell_type": "code",
   "execution_count": 59,
   "id": "7b652a26",
   "metadata": {},
   "outputs": [],
   "source": [
    "b=20*2.576+100"
   ]
  },
  {
   "cell_type": "code",
   "execution_count": 60,
   "id": "ad5ca9e9",
   "metadata": {},
   "outputs": [
    {
     "data": {
      "text/plain": [
       "151.52"
      ]
     },
     "execution_count": 60,
     "metadata": {},
     "output_type": "execute_result"
    }
   ],
   "source": [
    "b"
   ]
  },
  {
   "cell_type": "markdown",
   "id": "d501fbe3",
   "metadata": {},
   "source": [
    "# SET+3\n",
    "# Question No. 5\n",
    "5.\tIn January 2005, a company that monitors Internet traffic (WebSideStory) reported that its sampling revealed that the Mozilla Firefox browser launched in 2004 had grabbed a 4.6% share of the market.\n",
    "I.\tIf the sample were based on 2,000 users, could Microsoft conclude that Mozilla has a less than 5% share of the market?\n",
    "II.\tWebSideStory claims that its sample includes all the daily Internet users. If that’s the case, then can Microsoft conclude that Mozilla has a less than 5% share of the market?"
   ]
  },
  {
   "cell_type": "code",
   "execution_count": 61,
   "id": "c4a0e6e9",
   "metadata": {},
   "outputs": [],
   "source": [
    "t_scores=(0.046-0.05)/(np.sqrt((0.05*(1-0.05))/2000))"
   ]
  },
  {
   "cell_type": "code",
   "execution_count": 62,
   "id": "4e8d17e8",
   "metadata": {},
   "outputs": [
    {
     "data": {
      "text/plain": [
       "-0.820782681668124"
      ]
     },
     "execution_count": 62,
     "metadata": {},
     "output_type": "execute_result"
    }
   ],
   "source": [
    "t_scores"
   ]
  },
  {
   "cell_type": "code",
   "execution_count": 63,
   "id": "9f4201e9",
   "metadata": {},
   "outputs": [
    {
     "data": {
      "text/plain": [
       "0.20588503245107104"
      ]
     },
     "execution_count": 63,
     "metadata": {},
     "output_type": "execute_result"
    }
   ],
   "source": [
    "p_value=1-stats.norm.cdf(abs(t_scores))\n",
    "p_value    # the probability value for Mozilla has<5% share of the market"
   ]
  },
  {
   "cell_type": "code",
   "execution_count": 64,
   "id": "e740127f",
   "metadata": {},
   "outputs": [],
   "source": [
    "# the probability value is 0.20588503245107104 > mean 0.05"
   ]
  },
  {
   "cell_type": "code",
   "execution_count": 65,
   "id": "f5d193c1",
   "metadata": {},
   "outputs": [],
   "source": [
    "#Mozilla market share > 5%  \n",
    "# therefore Microsoft can not conclude that Mozilla has a less than 5% share of the market"
   ]
  },
  {
   "cell_type": "code",
   "execution_count": 66,
   "id": "e8924183",
   "metadata": {},
   "outputs": [
    {
     "data": {
      "text/plain": [
       "0.8416212335729143"
      ]
     },
     "execution_count": 66,
     "metadata": {},
     "output_type": "execute_result"
    }
   ],
   "source": [
    "stats.norm.ppf(0.80)"
   ]
  },
  {
   "cell_type": "markdown",
   "id": "459eea0d",
   "metadata": {},
   "source": [
    "# SET+4\n",
    "# Question No. 3\n",
    "3.\tAuditors at a small community bank randomly sample 100 withdrawal transactions made during the week at an ATM machine located near the bank’s main branch. Over the past 2 years, the average withdrawal amount has been $50 with a standard deviation of $40. Since audit investigations are typically expensive, the auditors decide to not initiate further investigations if the mean transaction amount of the sample is between $45 and $55. What is the probability that in any given week, there will be an investigation?\n",
    "A.\t1.25%\n",
    "B.\t2.5%\n",
    "C.\t10.55%\n",
    "D.\t21.1%\n",
    "E.\t50%\n",
    "\n"
   ]
  },
  {
   "cell_type": "code",
   "execution_count": 67,
   "id": "27eb0ddd",
   "metadata": {},
   "outputs": [],
   "source": [
    "from scipy import stats\n",
    "import pandas as pd\n",
    "import numpy as np\n",
    "import matplotlib.pyplot as plt"
   ]
  },
  {
   "cell_type": "code",
   "execution_count": 68,
   "id": "e3a62a2f",
   "metadata": {},
   "outputs": [],
   "source": [
    "#for investigation 1-p(45<x<55)"
   ]
  },
  {
   "cell_type": "code",
   "execution_count": 69,
   "id": "9b1f3a07",
   "metadata": {},
   "outputs": [],
   "source": [
    "n=100\n",
    "mean=50\n",
    "std=40\n",
    "# 45<x<55"
   ]
  },
  {
   "cell_type": "code",
   "execution_count": 70,
   "id": "4377aa2f",
   "metadata": {},
   "outputs": [
    {
     "data": {
      "text/plain": [
       "-1.25"
      ]
     },
     "execution_count": 70,
     "metadata": {},
     "output_type": "execute_result"
    }
   ],
   "source": [
    "z45=(45-mean)/(std/(10))\n",
    "z45                            # z score"
   ]
  },
  {
   "cell_type": "code",
   "execution_count": 71,
   "id": "8619da9d",
   "metadata": {},
   "outputs": [
    {
     "data": {
      "text/plain": [
       "1.25"
      ]
     },
     "execution_count": 71,
     "metadata": {},
     "output_type": "execute_result"
    }
   ],
   "source": [
    "z55=(55-mean)/(std/(10))\n",
    "z55                        # z score"
   ]
  },
  {
   "cell_type": "code",
   "execution_count": 72,
   "id": "22c0d705",
   "metadata": {},
   "outputs": [
    {
     "data": {
      "text/plain": [
       "0.7887004526662893"
      ]
     },
     "execution_count": 72,
     "metadata": {},
     "output_type": "execute_result"
    }
   ],
   "source": [
    "stats.norm.cdf(1.25)-stats.norm.cdf(-1.25) #p(45<x<55)"
   ]
  },
  {
   "cell_type": "code",
   "execution_count": 73,
   "id": "c0253920",
   "metadata": {},
   "outputs": [
    {
     "data": {
      "text/plain": [
       "(45.00000495667348, 54.99999504332652)"
      ]
     },
     "execution_count": 73,
     "metadata": {},
     "output_type": "execute_result"
    }
   ],
   "source": [
    "stats.norm.interval(0.7887,loc=50,scale=40/10)  # cheak the interval is correct "
   ]
  },
  {
   "cell_type": "code",
   "execution_count": 74,
   "id": "6e4b44c8",
   "metadata": {},
   "outputs": [
    {
     "data": {
      "text/plain": [
       "0.2112995473337107"
      ]
     },
     "execution_count": 74,
     "metadata": {},
     "output_type": "execute_result"
    }
   ],
   "source": [
    "1-0.7887004526662893"
   ]
  },
  {
   "cell_type": "code",
   "execution_count": 75,
   "id": "fae32935",
   "metadata": {},
   "outputs": [
    {
     "data": {
      "text/plain": [
       "21.129954733371072"
      ]
     },
     "execution_count": 75,
     "metadata": {},
     "output_type": "execute_result"
    }
   ],
   "source": [
    "0.2112995473337107*100"
   ]
  },
  {
   "cell_type": "code",
   "execution_count": 76,
   "id": "9fc80c15",
   "metadata": {},
   "outputs": [
    {
     "name": "stdout",
     "output_type": "stream",
     "text": [
      "probability that in any given week, there will be an investigation=21.1%\n"
     ]
    }
   ],
   "source": [
    "print(\"probability that in any given week, there will be an investigation=21.1%\")"
   ]
  }
 ],
 "metadata": {
  "kernelspec": {
   "display_name": "Python 3 (ipykernel)",
   "language": "python",
   "name": "python3"
  },
  "language_info": {
   "codemirror_mode": {
    "name": "ipython",
    "version": 3
   },
   "file_extension": ".py",
   "mimetype": "text/x-python",
   "name": "python",
   "nbconvert_exporter": "python",
   "pygments_lexer": "ipython3",
   "version": "3.9.12"
  }
 },
 "nbformat": 4,
 "nbformat_minor": 5
}
